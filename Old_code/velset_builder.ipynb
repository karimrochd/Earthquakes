{
 "cells": [
  {
   "cell_type": "markdown",
   "metadata": {},
   "source": [
    "# Download, interpolate and dump of GPS data\n",
    "\n",
    "e.g. will build a file  `velocity_cat=custom_ASlag=45_MS=5.5.npy`"
   ]
  },
  {
   "cell_type": "markdown",
   "metadata": {},
   "source": [
    "## Basic Utils (MANDATORY)"
   ]
  },
  {
   "cell_type": "code",
   "metadata": {
    "ExecuteTime": {
     "end_time": "2024-06-07T13:08:22.096338Z",
     "start_time": "2024-06-07T13:08:20.571873Z"
    }
   },
   "source": [
    "import seismicutils\n",
    "from seismicutils import SeismicUtils\n",
    "import numpy as np\n",
    "import pandas as pd\n",
    "from importlib import reload\n",
    "import matplotlib.pyplot as plt\n",
    "if(True):\n",
    "    reload(seismicutils)\n",
    "from sklearn.metrics.pairwise import haversine_distances\n",
    "import os\n",
    "import networkx as nx\n",
    "from mpl_toolkits.axes_grid1 import make_axes_locatable\n",
    "# import warnings\n",
    "\n",
    "from numba import njit"
   ],
   "outputs": [],
   "execution_count": 2
  },
  {
   "cell_type": "code",
   "metadata": {
    "ExecuteTime": {
     "end_time": "2024-06-06T15:05:15.447284Z",
     "start_time": "2024-06-06T15:05:15.445697Z"
    }
   },
   "source": [
    "#pd.set_option('display.max_columns', None)\n",
    "pd.set_option('display.max_rows', None)"
   ],
   "outputs": [],
   "execution_count": 4
  },
  {
   "cell_type": "markdown",
   "metadata": {},
   "source": [
    "### Specify the folder where to put csv files of GPS data"
   ]
  },
  {
   "cell_type": "code",
   "metadata": {
    "ExecuteTime": {
     "end_time": "2024-06-06T15:05:15.449736Z",
     "start_time": "2024-06-06T15:05:15.447987Z"
    }
   },
   "source": [
    "#rootpath=\"/home/flandes/csv/\"\n",
    "rootpath=\"/Users/gloirelinvani/gps_csv/\"\n",
    "#rootpath=\"D:/gps/\"\n",
    "if(not os.path.exists(rootpath)):\n",
    "    os.mkdir(rootpath)"
   ],
   "outputs": [],
   "execution_count": 5
  },
  {
   "cell_type": "markdown",
   "metadata": {},
   "source": [
    "## Main body"
   ]
  },
  {
   "cell_type": "markdown",
   "metadata": {},
   "source": [
    "### Catalog loading"
   ]
  },
  {
   "cell_type": "code",
   "metadata": {
    "ExecuteTime": {
     "end_time": "2024-06-06T15:05:15.453011Z",
     "start_time": "2024-06-06T15:05:15.451373Z"
    }
   },
   "source": [
    "R0 = 6371  ## Earth's Radius\n",
    "R_search = 300   ## Radius (in km) for which we look for GPS stations\n",
    "## we predict aftershocks up to 45 days after the MS:\n",
    "aftershocks_time_window = np.timedelta64(45,'D') \n",
    "min_mainshock_mag = 6 # this is telling us the minimal mainshock magnitude"
   ],
   "outputs": [],
   "execution_count": 6
  },
  {
   "cell_type": "code",
   "metadata": {
    "ExecuteTime": {
     "end_time": "2024-06-06T15:05:15.455284Z",
     "start_time": "2024-06-06T15:05:15.453660Z"
    }
   },
   "source": [
    "catalog_type = 'custom' # just a flag for the output file\n",
    "catalog_filename = \"/New_code/custom_catalog.csv\"  # valid values: 'custom' or 'giuseppe'"
   ],
   "outputs": [],
   "execution_count": 7
  },
  {
   "cell_type": "code",
   "metadata": {
    "ExecuteTime": {
     "end_time": "2024-06-06T15:05:15.459408Z",
     "start_time": "2024-06-06T15:05:15.455873Z"
    }
   },
   "source": [
    "n_days_forward  = np.timedelta64(1,'D')  ## how many days of GPS data to use after the MS \n",
    "n_days_backward = np.timedelta64(8, 'D') ## how many days of GPS data to use before the MS\n",
    "n_total_days = 1 +  n_days_forward.astype('int')+  n_days_backward.astype('int')\n",
    "## total will be 4+1(MS day)+1\n",
    "n_total_days"
   ],
   "outputs": [
    {
     "data": {
      "text/plain": [
       "10"
      ]
     },
     "execution_count": 8,
     "metadata": {},
     "output_type": "execute_result"
    }
   ],
   "execution_count": 8
  },
  {
   "cell_type": "code",
   "metadata": {
    "ExecuteTime": {
     "end_time": "2024-06-06T15:05:15.461690Z",
     "start_time": "2024-06-06T15:05:15.459905Z"
    }
   },
   "source": [
    "regions = seismicutils.return_regions() "
   ],
   "outputs": [],
   "execution_count": 9
  },
  {
   "cell_type": "code",
   "metadata": {
    "ExecuteTime": {
     "end_time": "2024-06-06T15:05:15.823356Z",
     "start_time": "2024-06-06T15:05:15.462301Z"
    }
   },
   "source": [
    "fit_catalog = pd.read_csv(catalog_filename, sep=\" \", parse_dates=['datetime'])\n",
    "fit_catalog['day'] = fit_catalog.datetime.values.astype('datetime64[D]')\n",
    "fit_catalog.sort_values(by='day', inplace=True)\n",
    "fit_catalog.reset_index(drop=True, inplace=True)"
   ],
   "outputs": [],
   "execution_count": 10
  },
  {
   "cell_type": "code",
   "metadata": {
    "ExecuteTime": {
     "end_time": "2024-06-06T15:05:15.825770Z",
     "start_time": "2024-06-06T15:05:15.824163Z"
    }
   },
   "source": [
    "#mainshocks = fit_catalog[fit_catalog.type==1]\n",
    "#mainshocks.reset_index(inplace=True, drop=True)\n",
    "#drop_ids = set()\n",
    "#for i in range(0, len(mainshocks)):\n",
    "#    if(mainshocks.iloc[i].seq_id in drop_ids):\n",
    "#        continue\n",
    "#    for j in range(i+1, len(mainshocks)):\n",
    "#        delta_days = (mainshocks.iloc[j].day.to_numpy() - mainshocks.iloc[i].day.to_numpy()).astype('timedelta64[D]')\n",
    "#        if(delta_days > aftershocks_time_window):\n",
    "#            break\n",
    "#        arg1 = np.radians(np.array([mainshocks.iloc[i].lat, mainshocks.iloc[i].lon]))[None,:]\n",
    "#        arg2 = np.radians(np.array([mainshocks.iloc[j].lat, mainshocks.iloc[j].lon]))[None,:]\n",
    "#        d_ij = R0*haversine_distances(arg1, arg2)[0,0]\n",
    "#        if(d_ij < R_search):\n",
    "#            print(mainshocks.iloc[j].seq_id,delta_days, d_ij, mainshocks.iloc[j].day.to_numpy())\n",
    "#            drop_ids.add(mainshocks.iloc[j].seq_id)\n",
    "#print('TO DROP SZ:', len(drop_ids))"
   ],
   "outputs": [],
   "execution_count": 11
  },
  {
   "cell_type": "markdown",
   "metadata": {},
   "source": [
    "### GPS stations and Mainshocks (TO BE RUN ONLY THE FIRST TIME, OR IF SOMETHING CHANGED)"
   ]
  },
  {
   "cell_type": "markdown",
   "metadata": {},
   "source": [
    "#### Load the correct catalog (if the previous cell has run, it is already saved locally)\n",
    "\n",
    "This is useful if we previously run and saved the catalog part of the notebook"
   ]
  },
  {
   "cell_type": "markdown",
   "metadata": {},
   "source": [
    "#### Download and plot stations (spatial distribution)\n",
    "We first download the list of all stations, then plot the distribution of the minimal station-to-station distance "
   ]
  },
  {
   "metadata": {
    "ExecuteTime": {
     "end_time": "2024-06-06T15:05:20.441451Z",
     "start_time": "2024-06-06T15:05:15.828044Z"
    }
   },
   "cell_type": "code",
   "source": [
    "stations = SeismicUtils.get_ngl_stations()\n",
    "stations.shape"
   ],
   "outputs": [
    {
     "data": {
      "text/plain": [
       "(21941, 8)"
      ]
     },
     "execution_count": 12,
     "metadata": {},
     "output_type": "execute_result"
    }
   ],
   "execution_count": 12
  },
  {
   "metadata": {
    "ExecuteTime": {
     "end_time": "2024-06-06T15:05:20.446885Z",
     "start_time": "2024-06-06T15:05:20.442185Z"
    }
   },
   "cell_type": "code",
   "source": "len(stations.name.unique())",
   "outputs": [
    {
     "data": {
      "text/plain": [
       "21941"
      ]
     },
     "execution_count": 13,
     "metadata": {},
     "output_type": "execute_result"
    }
   ],
   "execution_count": 13
  },
  {
   "metadata": {
    "ExecuteTime": {
     "end_time": "2024-06-07T13:08:29.450426Z",
     "start_time": "2024-06-07T13:08:29.447191Z"
    }
   },
   "cell_type": "code",
   "source": [
    "t = np.array([1,2,3])\n",
    "3 - t"
   ],
   "outputs": [
    {
     "data": {
      "text/plain": [
       "array([2, 1, 0])"
      ]
     },
     "execution_count": 4,
     "metadata": {},
     "output_type": "execute_result"
    }
   ],
   "execution_count": 4
  },
  {
   "metadata": {
    "ExecuteTime": {
     "end_time": "2024-06-06T15:05:44.498656Z",
     "start_time": "2024-06-06T15:05:36.674364Z"
    }
   },
   "cell_type": "code",
   "source": "jlist_distances = haversine_distances(np.radians(stations[['lat','lon']].values))",
   "outputs": [],
   "execution_count": 14
  },
  {
   "metadata": {
    "ExecuteTime": {
     "end_time": "2024-06-06T15:08:34.385473Z",
     "start_time": "2024-06-06T15:08:00.277882Z"
    }
   },
   "cell_type": "code",
   "source": "t = R0*np.sort(jlist_distances, axis=0)",
   "outputs": [],
   "execution_count": 17
  },
  {
   "metadata": {
    "ExecuteTime": {
     "end_time": "2024-06-06T15:15:11.595251Z",
     "start_time": "2024-06-06T15:15:11.590397Z"
    }
   },
   "cell_type": "code",
   "source": "jlist_distances[0:3,:10]",
   "outputs": [
    {
     "data": {
      "text/plain": [
       "array([[0.        , 0.00236041, 0.00203614, 1.91317678, 1.91064757,\n",
       "        1.97828688, 1.95632819, 1.96006675, 1.96673854, 2.01400969],\n",
       "       [0.00236041, 0.        , 0.00273478, 1.91421887, 1.9118233 ,\n",
       "        1.9796709 , 1.95769292, 1.96130255, 1.96802651, 2.0153994 ],\n",
       "       [0.00203614, 0.00273478, 0.        , 1.91160956, 1.90916687,\n",
       "        1.97696096, 1.95498681, 1.95862807, 1.96533801, 2.0126884 ]])"
      ]
     },
     "execution_count": 22,
     "metadata": {},
     "output_type": "execute_result"
    }
   ],
   "execution_count": 22
  },
  {
   "metadata": {
    "ExecuteTime": {
     "end_time": "2024-06-06T15:08:50.506744Z",
     "start_time": "2024-06-06T15:08:50.504287Z"
    }
   },
   "cell_type": "code",
   "source": "t.shape",
   "outputs": [
    {
     "data": {
      "text/plain": [
       "(21941, 21941)"
      ]
     },
     "execution_count": 18,
     "metadata": {},
     "output_type": "execute_result"
    }
   ],
   "execution_count": 18
  },
  {
   "metadata": {
    "ExecuteTime": {
     "end_time": "2024-06-06T15:24:28.358745Z",
     "start_time": "2024-06-06T15:24:28.356283Z"
    }
   },
   "cell_type": "code",
   "source": "t[1:2,:10]",
   "outputs": [
    {
     "data": {
      "text/plain": [
       "array([[ 2.43198621,  4.80524841,  0.        , 45.90452229, 10.69168265,\n",
       "         8.56220293, 16.23603482, 33.64187462, 29.53218415, 10.66054949]])"
      ]
     },
     "execution_count": 27,
     "metadata": {},
     "output_type": "execute_result"
    }
   ],
   "execution_count": 27
  },
  {
   "metadata": {
    "ExecuteTime": {
     "end_time": "2024-06-06T15:24:59.798094Z",
     "start_time": "2024-06-06T15:24:59.793916Z"
    }
   },
   "cell_type": "code",
   "source": "t[1:2,:10].mean(axis=0)",
   "outputs": [
    {
     "data": {
      "text/plain": [
       "array([ 2.43198621,  4.80524841,  0.        , 45.90452229, 10.69168265,\n",
       "        8.56220293, 16.23603482, 33.64187462, 29.53218415, 10.66054949])"
      ]
     },
     "execution_count": 28,
     "metadata": {},
     "output_type": "execute_result"
    }
   ],
   "execution_count": 28
  },
  {
   "metadata": {
    "ExecuteTime": {
     "end_time": "2024-06-06T15:26:19.024820Z",
     "start_time": "2024-06-06T15:26:18.938012Z"
    }
   },
   "cell_type": "code",
   "source": "plt.hist(t[1:2,:10].mean(axis=0), bins=np.linspace(0, 1e2))",
   "outputs": [
    {
     "data": {
      "text/plain": [
       "(array([1., 1., 1., 0., 1., 2., 0., 1., 0., 0., 0., 0., 0., 0., 1., 0., 1.,\n",
       "        0., 0., 0., 0., 0., 1., 0., 0., 0., 0., 0., 0., 0., 0., 0., 0., 0.,\n",
       "        0., 0., 0., 0., 0., 0., 0., 0., 0., 0., 0., 0., 0., 0., 0.]),\n",
       " array([  0.        ,   2.04081633,   4.08163265,   6.12244898,\n",
       "          8.16326531,  10.20408163,  12.24489796,  14.28571429,\n",
       "         16.32653061,  18.36734694,  20.40816327,  22.44897959,\n",
       "         24.48979592,  26.53061224,  28.57142857,  30.6122449 ,\n",
       "         32.65306122,  34.69387755,  36.73469388,  38.7755102 ,\n",
       "         40.81632653,  42.85714286,  44.89795918,  46.93877551,\n",
       "         48.97959184,  51.02040816,  53.06122449,  55.10204082,\n",
       "         57.14285714,  59.18367347,  61.2244898 ,  63.26530612,\n",
       "         65.30612245,  67.34693878,  69.3877551 ,  71.42857143,\n",
       "         73.46938776,  75.51020408,  77.55102041,  79.59183673,\n",
       "         81.63265306,  83.67346939,  85.71428571,  87.75510204,\n",
       "         89.79591837,  91.83673469,  93.87755102,  95.91836735,\n",
       "         97.95918367, 100.        ]),\n",
       " <BarContainer object of 49 artists>)"
      ]
     },
     "execution_count": 30,
     "metadata": {},
     "output_type": "execute_result"
    },
    {
     "data": {
      "text/plain": [
       "<Figure size 640x480 with 1 Axes>"
      ],
      "image/png": "[encoded data removed]"
     },
     "metadata": {},
     "output_type": "display_data"
    }
   ],
   "execution_count": 30
  },
  {
   "metadata": {
    "ExecuteTime": {
     "end_time": "2024-06-06T15:12:40.940809Z",
     "start_time": "2024-06-06T15:12:40.936243Z"
    }
   },
   "cell_type": "code",
   "source": [
    "t2 = np.array([[10,3,2],[4,2,5]])\n",
    "t2.sort(axis=0)"
   ],
   "outputs": [
    {
     "data": {
      "text/plain": [
       "array([[ 4,  2,  2],\n",
       "       [10,  3,  5]])"
      ]
     },
     "execution_count": 20,
     "metadata": {},
     "output_type": "execute_result"
    }
   ],
   "execution_count": 20
  },
  {
   "cell_type": "code",
   "metadata": {
    "ExecuteTime": {
     "end_time": "2024-06-06T13:35:51.949786Z",
     "start_time": "2024-06-06T13:35:43.365203Z"
    }
   },
   "source": [
    "ngl_list = SeismicUtils.get_ngl_stations(post_process=True)\n",
    "plot_station_distribution = True\n",
    "if(plot_station_distribution):\n",
    "    jlist = ngl_list[(ngl_list.lat>= regions['japan'][0])*(ngl_list.lat<= regions['japan'][1])\\\n",
    "                    *(ngl_list.lon >= regions['japan'][2])*(ngl_list.lon<= regions['japan'][3])]\n",
    "    jlist_distances = haversine_distances(np.radians(jlist[['lat','lon']].values))\n",
    "    plt.hist(R0*np.sort(jlist_distances, axis=0)[1:2,:].mean(axis=0), bins=np.linspace(0, 1e2))\n",
    "    plt.xlabel('Minimal distance $d$ (km)')\n",
    "    plt.ylabel('$P(d)$')\n",
    "    plt.show()"
   ],
   "outputs": [
    {
     "data": {
      "text/plain": [
       "<Figure size 640x480 with 1 Axes>"
      ],
      "image/png": "[encoded data removed]"
     },
     "metadata": {},
     "output_type": "display_data"
    }
   ],
   "execution_count": 36
  },
  {
   "cell_type": "markdown",
   "metadata": {},
   "source": [
    "### Conclusion:\n",
    "\n",
    "most stations have a neighboring one in a distance < 20km. \n",
    "\n",
    "So, $\\sigma_{interpolation}$ can be of the order of 20 km. \n",
    "\n",
    "For extrapolation (i.e. the choice of `alpha_max_dist`), one should take sthg of the order of 20km or a bit more (a bit more than  $\\sigma_{interpolation}$ for sure), but not much more than 20km."
   ]
  },
  {
   "cell_type": "markdown",
   "metadata": {},
   "source": [
    "#### For each Mainshock, we find all stations around in a large radius (much larger than our future box). \n",
    "\n",
    "We discard MS that have too few stations (but not in a very restrictive way, for now)\n",
    "\n",
    "\"*Actual selection of mainshocks vs stations collection*\""
   ]
  },
  {
   "metadata": {
    "ExecuteTime": {
     "end_time": "2024-06-07T09:28:46.962073Z",
     "start_time": "2024-06-07T09:28:42.354944Z"
    }
   },
   "cell_type": "code",
   "source": "data = SeismicUtils.get_ngl_gps_data(\"1LSU\",\"IGS14\", \"tenv3\")",
   "outputs": [],
   "execution_count": 3
  },
  {
   "metadata": {
    "ExecuteTime": {
     "end_time": "2024-06-07T09:29:03.103795Z",
     "start_time": "2024-06-07T09:29:03.092936Z"
    }
   },
   "cell_type": "code",
   "source": "data.head(10)",
   "outputs": [
    {
     "data": {
      "text/plain": [
       "   site  YYMMMDD  yyyy.yyyy  __MJD  week  d  reflon  _e0(m)  __east(m)  \\\n",
       "0  1LSU  03APR23  2003.3073  52752  1215  3   -91.2    1896   0.711049   \n",
       "1  1LSU  03APR24  2003.3101  52753  1215  4   -91.2    1896   0.709828   \n",
       "2  1LSU  03APR25  2003.3128  52754  1215  5   -91.2    1896   0.709516   \n",
       "3  1LSU  03APR26  2003.3155  52755  1215  6   -91.2    1896   0.709294   \n",
       "4  1LSU  03APR27  2003.3183  52756  1216  0   -91.2    1896   0.708491   \n",
       "5  1LSU  03APR28  2003.3210  52757  1216  1   -91.2    1896   0.709078   \n",
       "6  1LSU  03APR29  2003.3238  52758  1216  2   -91.2    1896   0.710335   \n",
       "7  1LSU  03APR30  2003.3265  52759  1216  3   -91.2    1896   0.708739   \n",
       "8  1LSU  03MAY01  2003.3292  52760  1216  4   -91.2    1896   0.708631   \n",
       "9  1LSU  03MAY02  2003.3320  52761  1216  5   -91.2    1896   0.710395   \n",
       "\n",
       "   ____n0(m)  ...  _ant(m)  sig_e(m)  sig_n(m)  sig_u(m)  __corr_en  \\\n",
       "0    3365278  ...      0.0  0.000744  0.000770  0.002916   0.004143   \n",
       "1    3365278  ...      0.0  0.000751  0.000794  0.003006  -0.004771   \n",
       "2    3365278  ...      0.0  0.000764  0.000805  0.003065  -0.033009   \n",
       "3    3365278  ...      0.0  0.000746  0.000795  0.002970  -0.031578   \n",
       "4    3365278  ...      0.0  0.000730  0.000779  0.002870   0.014876   \n",
       "5    3365278  ...      0.0  0.000742  0.000804  0.002976  -0.002140   \n",
       "6    3365278  ...      0.0  0.000748  0.000800  0.002983  -0.000612   \n",
       "7    3365278  ...      0.0  0.000761  0.000807  0.003038   0.002776   \n",
       "8    3365278  ...      0.0  0.000762  0.000803  0.003001   0.000272   \n",
       "9    3365278  ...      0.0  0.000792  0.000815  0.003160  -0.000469   \n",
       "\n",
       "   __corr_eu  __corr_nu  _latitude(deg)  _longitude(deg)  __height(m)  \n",
       "0  -0.052295  -0.108750       30.407425       -91.180261     -6.51332  \n",
       "1  -0.073633  -0.084747       30.407425       -91.180261     -6.50968  \n",
       "2  -0.032816  -0.099395       30.407425       -91.180261     -6.50972  \n",
       "3  -0.034920  -0.066100       30.407425       -91.180261     -6.51368  \n",
       "4  -0.046110  -0.072286       30.407425       -91.180261     -6.51495  \n",
       "5  -0.008859  -0.082712       30.407425       -91.180261     -6.51359  \n",
       "6  -0.047110  -0.075062       30.407425       -91.180261     -6.51713  \n",
       "7  -0.044538  -0.078777       30.407425       -91.180261     -6.51464  \n",
       "8  -0.043905  -0.084195       30.407425       -91.180261     -6.52050  \n",
       "9  -0.079799  -0.077296       30.407425       -91.180261     -6.51699  \n",
       "\n",
       "[10 rows x 23 columns]"
      ],
      "text/html": [
       "<div>\n",
       "<style scoped>\n",
       "    .dataframe tbody tr th:only-of-type {\n",
       "        vertical-align: middle;\n",
       "    }\n",
       "\n",
       "    .dataframe tbody tr th {\n",
       "        vertical-align: top;\n",
       "    }\n",
       "\n",
       "    .dataframe thead th {\n",
       "        text-align: right;\n",
       "    }\n",
       "</style>\n",
       "<table border=\"1\" class=\"dataframe\">\n",
       "  <thead>\n",
       "    <tr style=\"text-align: right;\">\n",
       "      <th></th>\n",
       "      <th>site</th>\n",
       "      <th>YYMMMDD</th>\n",
       "      <th>yyyy.yyyy</th>\n",
       "      <th>__MJD</th>\n",
       "      <th>week</th>\n",
       "      <th>d</th>\n",
       "      <th>reflon</th>\n",
       "      <th>_e0(m)</th>\n",
       "      <th>__east(m)</th>\n",
       "      <th>____n0(m)</th>\n",
       "      <th>...</th>\n",
       "      <th>_ant(m)</th>\n",
       "      <th>sig_e(m)</th>\n",
       "      <th>sig_n(m)</th>\n",
       "      <th>sig_u(m)</th>\n",
       "      <th>__corr_en</th>\n",
       "      <th>__corr_eu</th>\n",
       "      <th>__corr_nu</th>\n",
       "      <th>_latitude(deg)</th>\n",
       "      <th>_longitude(deg)</th>\n",
       "      <th>__height(m)</th>\n",
       "    </tr>\n",
       "  </thead>\n",
       "  <tbody>\n",
       "    <tr>\n",
       "      <th>0</th>\n",
       "      <td>1LSU</td>\n",
       "      <td>03APR23</td>\n",
       "      <td>2003.3073</td>\n",
       "      <td>52752</td>\n",
       "      <td>1215</td>\n",
       "      <td>3</td>\n",
       "      <td>-91.2</td>\n",
       "      <td>1896</td>\n",
       "      <td>0.711049</td>\n",
       "      <td>3365278</td>\n",
       "      <td>...</td>\n",
       "      <td>0.0</td>\n",
       "      <td>0.000744</td>\n",
       "      <td>0.000770</td>\n",
       "      <td>0.002916</td>\n",
       "      <td>0.004143</td>\n",
       "      <td>-0.052295</td>\n",
       "      <td>-0.108750</td>\n",
       "      <td>30.407425</td>\n",
       "      <td>-91.180261</td>\n",
       "      <td>-6.51332</td>\n",
       "    </tr>\n",
       "    <tr>\n",
       "      <th>1</th>\n",
       "      <td>1LSU</td>\n",
       "      <td>03APR24</td>\n",
       "      <td>2003.3101</td>\n",
       "      <td>52753</td>\n",
       "      <td>1215</td>\n",
       "      <td>4</td>\n",
       "      <td>-91.2</td>\n",
       "      <td>1896</td>\n",
       "      <td>0.709828</td>\n",
       "      <td>3365278</td>\n",
       "      <td>...</td>\n",
       "      <td>0.0</td>\n",
       "      <td>0.000751</td>\n",
       "      <td>0.000794</td>\n",
       "      <td>0.003006</td>\n",
       "      <td>-0.004771</td>\n",
       "      <td>-0.073633</td>\n",
       "      <td>-0.084747</td>\n",
       "      <td>30.407425</td>\n",
       "      <td>-91.180261</td>\n",
       "      <td>-6.50968</td>\n",
       "    </tr>\n",
       "    <tr>\n",
       "      <th>2</th>\n",
       "      <td>1LSU</td>\n",
       "      <td>03APR25</td>\n",
       "      <td>2003.3128</td>\n",
       "      <td>52754</td>\n",
       "      <td>1215</td>\n",
       "      <td>5</td>\n",
       "      <td>-91.2</td>\n",
       "      <td>1896</td>\n",
       "      <td>0.709516</td>\n",
       "      <td>3365278</td>\n",
       "      <td>...</td>\n",
       "      <td>0.0</td>\n",
       "      <td>0.000764</td>\n",
       "      <td>0.000805</td>\n",
       "      <td>0.003065</td>\n",
       "      <td>-0.033009</td>\n",
       "      <td>-0.032816</td>\n",
       "      <td>-0.099395</td>\n",
       "      <td>30.407425</td>\n",
       "      <td>-91.180261</td>\n",
       "      <td>-6.50972</td>\n",
       "    </tr>\n",
       "    <tr>\n",
       "      <th>3</th>\n",
       "      <td>1LSU</td>\n",
       "      <td>03APR26</td>\n",
       "      <td>2003.3155</td>\n",
       "      <td>52755</td>\n",
       "      <td>1215</td>\n",
       "      <td>6</td>\n",
       "      <td>-91.2</td>\n",
       "      <td>1896</td>\n",
       "      <td>0.709294</td>\n",
       "      <td>3365278</td>\n",
       "      <td>...</td>\n",
       "      <td>0.0</td>\n",
       "      <td>0.000746</td>\n",
       "      <td>0.000795</td>\n",
       "      <td>0.002970</td>\n",
       "      <td>-0.031578</td>\n",
       "      <td>-0.034920</td>\n",
       "      <td>-0.066100</td>\n",
       "      <td>30.407425</td>\n",
       "      <td>-91.180261</td>\n",
       "      <td>-6.51368</td>\n",
       "    </tr>\n",
       "    <tr>\n",
       "      <th>4</th>\n",
       "      <td>1LSU</td>\n",
       "      <td>03APR27</td>\n",
       "      <td>2003.3183</td>\n",
       "      <td>52756</td>\n",
       "      <td>1216</td>\n",
       "      <td>0</td>\n",
       "      <td>-91.2</td>\n",
       "      <td>1896</td>\n",
       "      <td>0.708491</td>\n",
       "      <td>3365278</td>\n",
       "      <td>...</td>\n",
       "      <td>0.0</td>\n",
       "      <td>0.000730</td>\n",
       "      <td>0.000779</td>\n",
       "      <td>0.002870</td>\n",
       "      <td>0.014876</td>\n",
       "      <td>-0.046110</td>\n",
       "      <td>-0.072286</td>\n",
       "      <td>30.407425</td>\n",
       "      <td>-91.180261</td>\n",
       "      <td>-6.51495</td>\n",
       "    </tr>\n",
       "    <tr>\n",
       "      <th>5</th>\n",
       "      <td>1LSU</td>\n",
       "      <td>03APR28</td>\n",
       "      <td>2003.3210</td>\n",
       "      <td>52757</td>\n",
       "      <td>1216</td>\n",
       "      <td>1</td>\n",
       "      <td>-91.2</td>\n",
       "      <td>1896</td>\n",
       "      <td>0.709078</td>\n",
       "      <td>3365278</td>\n",
       "      <td>...</td>\n",
       "      <td>0.0</td>\n",
       "      <td>0.000742</td>\n",
       "      <td>0.000804</td>\n",
       "      <td>0.002976</td>\n",
       "      <td>-0.002140</td>\n",
       "      <td>-0.008859</td>\n",
       "      <td>-0.082712</td>\n",
       "      <td>30.407425</td>\n",
       "      <td>-91.180261</td>\n",
       "      <td>-6.51359</td>\n",
       "    </tr>\n",
       "    <tr>\n",
       "      <th>6</th>\n",
       "      <td>1LSU</td>\n",
       "      <td>03APR29</td>\n",
       "      <td>2003.3238</td>\n",
       "      <td>52758</td>\n",
       "      <td>1216</td>\n",
       "      <td>2</td>\n",
       "      <td>-91.2</td>\n",
       "      <td>1896</td>\n",
       "      <td>0.710335</td>\n",
       "      <td>3365278</td>\n",
       "      <td>...</td>\n",
       "      <td>0.0</td>\n",
       "      <td>0.000748</td>\n",
       "      <td>0.000800</td>\n",
       "      <td>0.002983</td>\n",
       "      <td>-0.000612</td>\n",
       "      <td>-0.047110</td>\n",
       "      <td>-0.075062</td>\n",
       "      <td>30.407425</td>\n",
       "      <td>-91.180261</td>\n",
       "      <td>-6.51713</td>\n",
       "    </tr>\n",
       "    <tr>\n",
       "      <th>7</th>\n",
       "      <td>1LSU</td>\n",
       "      <td>03APR30</td>\n",
       "      <td>2003.3265</td>\n",
       "      <td>52759</td>\n",
       "      <td>1216</td>\n",
       "      <td>3</td>\n",
       "      <td>-91.2</td>\n",
       "      <td>1896</td>\n",
       "      <td>0.708739</td>\n",
       "      <td>3365278</td>\n",
       "      <td>...</td>\n",
       "      <td>0.0</td>\n",
       "      <td>0.000761</td>\n",
       "      <td>0.000807</td>\n",
       "      <td>0.003038</td>\n",
       "      <td>0.002776</td>\n",
       "      <td>-0.044538</td>\n",
       "      <td>-0.078777</td>\n",
       "      <td>30.407425</td>\n",
       "      <td>-91.180261</td>\n",
       "      <td>-6.51464</td>\n",
       "    </tr>\n",
       "    <tr>\n",
       "      <th>8</th>\n",
       "      <td>1LSU</td>\n",
       "      <td>03MAY01</td>\n",
       "      <td>2003.3292</td>\n",
       "      <td>52760</td>\n",
       "      <td>1216</td>\n",
       "      <td>4</td>\n",
       "      <td>-91.2</td>\n",
       "      <td>1896</td>\n",
       "      <td>0.708631</td>\n",
       "      <td>3365278</td>\n",
       "      <td>...</td>\n",
       "      <td>0.0</td>\n",
       "      <td>0.000762</td>\n",
       "      <td>0.000803</td>\n",
       "      <td>0.003001</td>\n",
       "      <td>0.000272</td>\n",
       "      <td>-0.043905</td>\n",
       "      <td>-0.084195</td>\n",
       "      <td>30.407425</td>\n",
       "      <td>-91.180261</td>\n",
       "      <td>-6.52050</td>\n",
       "    </tr>\n",
       "    <tr>\n",
       "      <th>9</th>\n",
       "      <td>1LSU</td>\n",
       "      <td>03MAY02</td>\n",
       "      <td>2003.3320</td>\n",
       "      <td>52761</td>\n",
       "      <td>1216</td>\n",
       "      <td>5</td>\n",
       "      <td>-91.2</td>\n",
       "      <td>1896</td>\n",
       "      <td>0.710395</td>\n",
       "      <td>3365278</td>\n",
       "      <td>...</td>\n",
       "      <td>0.0</td>\n",
       "      <td>0.000792</td>\n",
       "      <td>0.000815</td>\n",
       "      <td>0.003160</td>\n",
       "      <td>-0.000469</td>\n",
       "      <td>-0.079799</td>\n",
       "      <td>-0.077296</td>\n",
       "      <td>30.407425</td>\n",
       "      <td>-91.180261</td>\n",
       "      <td>-6.51699</td>\n",
       "    </tr>\n",
       "  </tbody>\n",
       "</table>\n",
       "<p>10 rows × 23 columns</p>\n",
       "</div>"
      ]
     },
     "execution_count": 5,
     "metadata": {},
     "output_type": "execute_result"
    }
   ],
   "execution_count": 5
  },
  {
   "cell_type": "code",
   "execution_count": null,
   "metadata": {},
   "source": [
    "## we ask for min_station_number to be there, but in a very large radius !\n",
    "## so we may further filter later\n",
    "min_station_number = 3\n",
    "stations_to_download = set()\n",
    "mainshock_stations = {}\n",
    "mainshock_day = {}\n",
    "for id, seq in fit_catalog.groupby('seq_id'):\n",
    "    if(len(seq) <= 1):\n",
    "        continue\n",
    "    mainshock = seq[seq['type'] == 1] ## finding one MS\n",
    "    expected_maximal_radius = max(10**(mainshock.mag.values[0]/2 - 0.79), R_search) ## still a radius\n",
    "    stations_to_ms_dist = haversine_distances(np.radians(ngl_list[[\"lat\",\"lon\"]]), np.radians(mainshock[[\"lat\",\"lon\"]].values))[:,0]\n",
    "    valid_stations_mask  =  R0*stations_to_ms_dist <= expected_maximal_radius\n",
    "    valid_stations_mask*= (ngl_list.begin.values <= mainshock.day.values[0])\\\n",
    "                           *(ngl_list.end.values >= mainshock.day.values[0]) ## discard stations that are not yet born or that have been terminated\n",
    "    valid_stations = ngl_list.name.values[valid_stations_mask]\n",
    "    \n",
    "    if(len(valid_stations) >= min_station_number):\n",
    "        print('Success: ', id, len(valid_stations), )\n",
    "        stations_to_download.update(list(valid_stations))\n",
    "        mainshock_stations[id] = list(valid_stations)\n",
    "        mainshock_day[id] = mainshock.day.values[0].astype('datetime64[D]')\n",
    "    else:\n",
    "        print('Failed: ', id, len(valid_stations), )"
   ],
   "outputs": []
  },
  {
   "cell_type": "markdown",
   "metadata": {},
   "source": [
    "#### Load (or down-load) the csv (GPS data) files from NGL\n",
    "We download/load according to the mainshocks previously collected"
   ]
  },
  {
   "cell_type": "code",
   "execution_count": null,
   "metadata": {
    "scrolled": true
   },
   "source": [
    "if(not os.path.exists(rootpath)):\n",
    "    os.mkdir(rootpath)\n",
    "mainshock_data = {}\n",
    "labels_to_rename = {\"_latitude(deg)\" : \"lat\" ,\"_longitude(deg)\" : \"lon\", \"__height(m)\": \"height\"}\n",
    "max_n_trials = 5\n",
    "for s in stations_to_download:\n",
    "    trial_fname = rootpath + s + \".csv\"\n",
    "    if(os.path.exists(trial_fname)):\n",
    "        print(s, \"(load existing)\")\n",
    "\n",
    "        data = pd.read_csv(trial_fname, sep=\" \", parse_dates=['date'])\n",
    "    else:\n",
    "        print(s, \"(download)\")\n",
    "        trials = 0\n",
    "        while(trials < max_n_trials):\n",
    "            try:\n",
    "                data = SeismicUtils.get_ngl_gps_data(s,\"IGS14\", \"tenv3\")\n",
    "                break\n",
    "            except:\n",
    "                trials += 1\n",
    "        if(trials == max_n_trials):\n",
    "            print(\"Failed. Tried: \", trials)\n",
    "            continue\n",
    "        data['date'] = [ seismicutils.SeismicUtils.str_to_datetime(s, 23) for s in data['YYMMMDD']]\n",
    "        data['date'] = data['date'].values.astype('datetime64[D]')\n",
    "        data.rename(labels_to_rename,axis=1, inplace=True)\n",
    "        data = data[['date','site','lat','lon','height']]\n",
    "        data.to_csv(trial_fname, sep=\" \", index=False)\n",
    "    data['lon'] = data['lon'] % 180\n",
    "    for id in mainshock_stations.keys():\n",
    "        if(s in mainshock_stations[id]):\n",
    "            subdata = data[(data.date >= mainshock_day[id] - n_days_backward)*(data.date <= mainshock_day[id] + n_days_forward)]\n",
    "            \n",
    "            if(len(subdata) == n_total_days and np.isfinite(subdata[['lat','lon','height']].values).all()):\n",
    "                if(id not in mainshock_data.keys()):\n",
    "                    mainshock_data[id] = []\n",
    "                mainshock_data[id].append(subdata)"
   ],
   "outputs": []
  },
  {
   "cell_type": "markdown",
   "metadata": {},
   "source": [
    "We now build the dictionnary  `fit_dataset`, which contains:\n",
    "(velocities, stations_positions, \n",
    "                           mainshock_day[id], mainshock.mag.values[0], \\\n",
    "                           mainshock_location, aftershocks_locations, aftershocks_mags)"
   ]
  },
  {
   "cell_type": "code",
   "execution_count": null,
   "metadata": {},
   "source": [
    "conv_factor = R0*1e3*np.pi/180  # convert from lat,lon (degrees) to meters\n",
    "fit_dataset = {}\n",
    "for id in mainshock_data:   ## sweep all MS that are m>6 (not much filtered)\n",
    "    velocities = []\n",
    "    stations_positions = []    \n",
    "    for md in mainshock_data[id]:  ## for each station close enough to that MS\n",
    "        days = md['date'].values\n",
    "        site = md['site'].values[0]\n",
    "        station_position = ngl_list[ngl_list.name == site][['lat','lon']].values[0,:]  # station position (initial one)\n",
    "        pos = md[['lat','lon','height']].values\n",
    "        vel = np.diff(pos, axis=0)  ## 1-day velocity : we take the diff of position between 2 days as signal\n",
    "        vel[:, [0,1]] = conv_factor*vel[:,[0,1]]\n",
    "        velocities.append(vel[:,np.newaxis, :])\n",
    "        stations_positions.append(station_position[np.newaxis, :])\n",
    "    velocities = np.concatenate(velocities, axis=1) ## concatenate 1-days velocities over all stations\n",
    "    ## velocities: (Tdays-1, Nstations(of that MS), 3)\n",
    "    stations_positions = np.concatenate(stations_positions)\n",
    "    \n",
    "    ## extraction of the AS\n",
    "    seq = fit_catalog[fit_catalog.seq_id==id]\n",
    "    mainshock   = seq[seq['type']==1]\n",
    "    aftershocks = seq[seq['type']==2]\n",
    "    aftershocks = aftershocks[aftershocks.day > mainshock.day.values[0] + n_days_forward]\n",
    "    ## note: at catalog extraction (before here) we already restricted to AS happening at t<t_MS+45 days.\n",
    "    mainshock_location    = mainshock  [['lat','lon']].values[0,:]\n",
    "    aftershocks_locations = aftershocks[['lat','lon']].values\n",
    "    aftershocks_mags = aftershocks['mag'].values\n",
    "    if(len(aftershocks_locations)>1):  #  and velocities.shape[0 (should be 1 and not 0)] >= min_station_number):\n",
    "        fit_dataset[id] = (velocities, stations_positions, \\\n",
    "                           mainshock_day[id], mainshock.mag.values[0], \\\n",
    "                           mainshock_location, aftershocks_locations, aftershocks_mags)\n",
    "## fit_dataset now contains all raw information relative to that sequence:\n",
    "## (lat,lon) coordinates, GPS data (at the stations, not interpolated)\n",
    "        "
   ],
   "outputs": []
  },
  {
   "cell_type": "markdown",
   "metadata": {},
   "source": [
    "### Save"
   ]
  },
  {
   "cell_type": "code",
   "execution_count": null,
   "metadata": {},
   "source": [
    "if(not os.path.exists('velset')):\n",
    "    os.mkdir('velset')\n",
    "#temp = { k:fit_dataset[k] for k in fit_dataset.keys() if k not in drop_ids}\n",
    "#np.save('velset/' + SeismicUtils.format_velset_filename(catalog_type + 'filtered',aftershocks_time_window.astype('int'), min_mainshock_mag, n_total_days-1), temp)\n",
    "np.save('velset/' + SeismicUtils.format_velset_filename(catalog_type,aftershocks_time_window.astype('int'), min_mainshock_mag, n_total_days-1), fit_dataset)"
   ],
   "outputs": []
  }
 ],
 "metadata": {
  "kernelspec": {
   "display_name": "Python 3 (ipykernel)",
   "language": "python",
   "name": "python3"
  },
  "language_info": {
   "codemirror_mode": {
    "name": "ipython",
    "version": 3
   },
   "file_extension": ".py",
   "mimetype": "text/x-python",
   "name": "python",
   "nbconvert_exporter": "python",
   "pygments_lexer": "ipython3",
   "version": "3.9.13"
  },
  "vscode": {
   "interpreter": {
    "hash": "26830cff502e1cef407be67fc0678e858115322e66d911dee70bb6d4afc3944a"
   }
  }
 },
 "nbformat": 4,
 "nbformat_minor": 2
}
