{
 "cells": [
  {
   "cell_type": "code",
   "execution_count": 1,
   "id": "initial_id",
   "metadata": {
    "ExecuteTime": {
     "end_time": "2024-06-15T11:40:05.570006Z",
     "start_time": "2024-06-15T11:40:05.159766Z"
    },
    "collapsed": true
   },
   "outputs": [],
   "source": [
    "import h5py\n",
    "import numpy as np\n",
    "import pandas as pd\n",
    "import utilities"
   ]
  },
  {
   "cell_type": "markdown",
   "id": "a6fa345a37d4e9af",
   "metadata": {},
   "source": [
    "# Parameters"
   ]
  },
  {
   "cell_type": "code",
   "execution_count": 2,
   "id": "54ea471902801b70",
   "metadata": {
    "ExecuteTime": {
     "end_time": "2024-06-15T11:40:05.572733Z",
     "start_time": "2024-06-15T11:40:05.570924Z"
    }
   },
   "outputs": [],
   "source": [
    "# Path to the data\n",
    "hdf5_in_put_file_path = \"Data/Data_min_mainshock_mag=6_min_stations_per_main_shock=3_min_after_shock_mag=5_after_shock_time_window=45_n_days_before_mainshock=7_n_days_after_mainshock=7.hdf5\"  #Path to the HDF5 output file\n",
    "hdf5_out_put_file_path = \"Data/Interpolated_Data_and_labels_min_mainshock_mag=6_min_stations_per_main_shock=3_min_after_shock_mag=5_after_shock_time_window=45_n_days_before_mainshock=7_n_days_after_mainshock=7.hdf5\"  #Path to the HDF5 output file\n",
    "earthquakes_path = \"custom_catalog.csv\"  #Path to the earthquake catalog file"
   ]
  },
  {
   "cell_type": "markdown",
   "id": "28cf4aaf320471f5",
   "metadata": {},
   "source": [
    "# Analysing displacements data before interpolation"
   ]
  },
  {
   "cell_type": "code",
   "execution_count": 5,
   "id": "fc33d3bb89690cb6",
   "metadata": {
    "ExecuteTime": {
     "end_time": "2024-06-14T13:02:40.321575Z",
     "start_time": "2024-06-14T13:02:40.313151Z"
    }
   },
   "outputs": [
    {
     "name": "stdout",
     "output_type": "stream",
     "text": [
      "<KeysViewHDF5 ['103', '109', '110', '112', '114', '115', '116', '150', '156', '159', '160', '161', '168', '169', '170', '172', '173', '179', '181', '182', '183', '184', '185', '186', '187', '188', '189', '190', '191', '194', '199', '200', '202', '203', '204', '206', '207', '208', '210', '214', '215', '217', '218', '220', '224', '225', '227', '233', '246', '248', '252', '253', '254', '262', '265', '267', '270', '271', '272', '273', '275', '277', '278', '279', '281', '282', '283', '284', '285', '286', '292', '293', '297', '298', '300', '301', '303', '306', '308', '309', '311', '315', '317', '319', '321', '322', '325', '326', '327', '328', '329', '330', '331', '332', '333', '334', '335', '336', '337', '338', '339', '340', '341', '342', '343', '344', '345', '346', '348', '349', '350', '351', '352', '354', '355', '356', '358', '359', '360', '361', '362', '364', '365', '366', '367', '368', '369', '370', '371', '372', '373', '374', '375', '376', '377', '378', '379', '380', '381', '382', '383', '384', '385', '386', '387', '388', '389', '390', '391', '392', '393', '394', '395', '396', '398', '399', '400', '401', '402', '403', '404', '405', '406', '407', '408', '409', '410', '411', '412', '413', '414', '415', '416', '417', '418', '419', '420', '421', '422', '423', '424', '425', '426', '427', '428', '429', '430', '431', '432', '433', '434', '437', '438', '440', '445', '446', '447', '448', '449', '452', '453', '454', '457', '458', '459', '460', '461', '463', '467', '468', '472', '484', '489', '491', '493', '494', '495', '496', '497', '498', '500', '501', '502', '504', '505', '508', '510', '515', '518', '519', '520', '521', '522', '526', '527', '528', '531', '534', '535', '537', '538', '539', '540', '542', '544', '547', '548', '549', '550', '556', '557', '558', '565', '567', '568', '576', '577']>\n",
      "257\n",
      "<class 'numpy.ndarray'>\n"
     ]
    }
   ],
   "source": [
    "with h5py.File(hdf5_in_put_file_path, 'r') as f:\n",
    "    print(f.keys())\n",
    "    print(len(f.keys()))\n",
    "    group = f['103']\n",
    "    print(type(group['gps_displacements'][()]))\n",
    "    data = pd.DataFrame(np.vstack(\n",
    "        [group['gps_displacements'][()][0], group['gps_displacements'][()][1], group['gps_displacements'][()][2]]),\n",
    "                        columns=['x', 'y', 'z'])"
   ]
  },
  {
   "cell_type": "code",
   "execution_count": 7,
   "id": "d377040169294016",
   "metadata": {
    "ExecuteTime": {
     "end_time": "2024-06-14T13:02:44.900204Z",
     "start_time": "2024-06-14T13:02:44.891477Z"
    }
   },
   "outputs": [
    {
     "data": {
      "text/html": [
       "<div>\n",
       "<style scoped>\n",
       "    .dataframe tbody tr th:only-of-type {\n",
       "        vertical-align: middle;\n",
       "    }\n",
       "\n",
       "    .dataframe tbody tr th {\n",
       "        vertical-align: top;\n",
       "    }\n",
       "\n",
       "    .dataframe thead th {\n",
       "        text-align: right;\n",
       "    }\n",
       "</style>\n",
       "<table border=\"1\" class=\"dataframe\">\n",
       "  <thead>\n",
       "    <tr style=\"text-align: right;\">\n",
       "      <th></th>\n",
       "      <th>x</th>\n",
       "      <th>y</th>\n",
       "      <th>z</th>\n",
       "    </tr>\n",
       "  </thead>\n",
       "  <tbody>\n",
       "    <tr>\n",
       "      <th>0</th>\n",
       "      <td>0.000000e+00</td>\n",
       "      <td>0.000000e+00</td>\n",
       "      <td>0.000000e+00</td>\n",
       "    </tr>\n",
       "    <tr>\n",
       "      <th>1</th>\n",
       "      <td>3.335828e-08</td>\n",
       "      <td>1.503935e-06</td>\n",
       "      <td>1.720000e-06</td>\n",
       "    </tr>\n",
       "    <tr>\n",
       "      <th>2</th>\n",
       "      <td>-1.634565e-06</td>\n",
       "      <td>1.731796e-07</td>\n",
       "      <td>-3.380000e-06</td>\n",
       "    </tr>\n",
       "    <tr>\n",
       "      <th>3</th>\n",
       "      <td>-2.312855e-06</td>\n",
       "      <td>-8.567869e-07</td>\n",
       "      <td>3.700000e-07</td>\n",
       "    </tr>\n",
       "    <tr>\n",
       "      <th>4</th>\n",
       "      <td>-1.334339e-06</td>\n",
       "      <td>-8.932465e-07</td>\n",
       "      <td>1.560000e-06</td>\n",
       "    </tr>\n",
       "    <tr>\n",
       "      <th>5</th>\n",
       "      <td>1.767999e-06</td>\n",
       "      <td>1.996132e-06</td>\n",
       "      <td>6.600000e-06</td>\n",
       "    </tr>\n",
       "    <tr>\n",
       "      <th>6</th>\n",
       "      <td>3.280250e-06</td>\n",
       "      <td>-2.971409e-06</td>\n",
       "      <td>-1.240000e-06</td>\n",
       "    </tr>\n",
       "    <tr>\n",
       "      <th>7</th>\n",
       "      <td>7.005287e-07</td>\n",
       "      <td>-2.096395e-06</td>\n",
       "      <td>-6.980000e-06</td>\n",
       "    </tr>\n",
       "    <tr>\n",
       "      <th>8</th>\n",
       "      <td>1.679043e-06</td>\n",
       "      <td>1.987016e-06</td>\n",
       "      <td>3.200000e-07</td>\n",
       "    </tr>\n",
       "    <tr>\n",
       "      <th>9</th>\n",
       "      <td>1.879194e-06</td>\n",
       "      <td>9.935093e-07</td>\n",
       "      <td>6.690000e-06</td>\n",
       "    </tr>\n",
       "    <tr>\n",
       "      <th>10</th>\n",
       "      <td>1.801358e-06</td>\n",
       "      <td>2.406295e-06</td>\n",
       "      <td>3.920000e-06</td>\n",
       "    </tr>\n",
       "    <tr>\n",
       "      <th>11</th>\n",
       "      <td>1.323220e-06</td>\n",
       "      <td>2.151082e-06</td>\n",
       "      <td>-4.050000e-06</td>\n",
       "    </tr>\n",
       "    <tr>\n",
       "      <th>12</th>\n",
       "      <td>-5.103847e-06</td>\n",
       "      <td>1.977903e-06</td>\n",
       "      <td>-3.650000e-06</td>\n",
       "    </tr>\n",
       "    <tr>\n",
       "      <th>13</th>\n",
       "      <td>-5.026010e-06</td>\n",
       "      <td>-9.570497e-07</td>\n",
       "      <td>3.870000e-06</td>\n",
       "    </tr>\n",
       "    <tr>\n",
       "      <th>14</th>\n",
       "      <td>0.000000e+00</td>\n",
       "      <td>0.000000e+00</td>\n",
       "      <td>0.000000e+00</td>\n",
       "    </tr>\n",
       "    <tr>\n",
       "      <th>15</th>\n",
       "      <td>0.000000e+00</td>\n",
       "      <td>0.000000e+00</td>\n",
       "      <td>0.000000e+00</td>\n",
       "    </tr>\n",
       "    <tr>\n",
       "      <th>16</th>\n",
       "      <td>2.257257e-06</td>\n",
       "      <td>-4.429770e-06</td>\n",
       "      <td>-1.950000e-06</td>\n",
       "    </tr>\n",
       "    <tr>\n",
       "      <th>17</th>\n",
       "      <td>-4.714664e-06</td>\n",
       "      <td>-3.536527e-06</td>\n",
       "      <td>-1.612000e-05</td>\n",
       "    </tr>\n",
       "    <tr>\n",
       "      <th>18</th>\n",
       "      <td>-7.783626e-08</td>\n",
       "      <td>2.506557e-06</td>\n",
       "      <td>-1.558000e-05</td>\n",
       "    </tr>\n",
       "    <tr>\n",
       "      <th>19</th>\n",
       "      <td>-1.512251e-06</td>\n",
       "      <td>-1.093764e-07</td>\n",
       "      <td>-2.080000e-06</td>\n",
       "    </tr>\n",
       "    <tr>\n",
       "      <th>20</th>\n",
       "      <td>-3.369206e-06</td>\n",
       "      <td>2.871149e-06</td>\n",
       "      <td>-5.670000e-06</td>\n",
       "    </tr>\n",
       "    <tr>\n",
       "      <th>21</th>\n",
       "      <td>5.381834e-06</td>\n",
       "      <td>8.567869e-07</td>\n",
       "      <td>-2.353000e-05</td>\n",
       "    </tr>\n",
       "    <tr>\n",
       "      <th>22</th>\n",
       "      <td>3.046741e-06</td>\n",
       "      <td>-2.242231e-06</td>\n",
       "      <td>1.976000e-05</td>\n",
       "    </tr>\n",
       "    <tr>\n",
       "      <th>23</th>\n",
       "      <td>-2.146062e-06</td>\n",
       "      <td>4.466220e-07</td>\n",
       "      <td>2.337000e-05</td>\n",
       "    </tr>\n",
       "    <tr>\n",
       "      <th>24</th>\n",
       "      <td>2.879949e-06</td>\n",
       "      <td>-1.740917e-06</td>\n",
       "      <td>-5.300000e-07</td>\n",
       "    </tr>\n",
       "    <tr>\n",
       "      <th>25</th>\n",
       "      <td>3.068980e-06</td>\n",
       "      <td>-2.187542e-06</td>\n",
       "      <td>2.860000e-06</td>\n",
       "    </tr>\n",
       "    <tr>\n",
       "      <th>26</th>\n",
       "      <td>1.512251e-06</td>\n",
       "      <td>4.010492e-06</td>\n",
       "      <td>3.500000e-06</td>\n",
       "    </tr>\n",
       "    <tr>\n",
       "      <th>27</th>\n",
       "      <td>1.056352e-06</td>\n",
       "      <td>5.013118e-06</td>\n",
       "      <td>1.767000e-05</td>\n",
       "    </tr>\n",
       "    <tr>\n",
       "      <th>28</th>\n",
       "      <td>-6.582740e-06</td>\n",
       "      <td>-1.750033e-06</td>\n",
       "      <td>-1.057000e-05</td>\n",
       "    </tr>\n",
       "    <tr>\n",
       "      <th>29</th>\n",
       "      <td>0.000000e+00</td>\n",
       "      <td>0.000000e+00</td>\n",
       "      <td>0.000000e+00</td>\n",
       "    </tr>\n",
       "    <tr>\n",
       "      <th>30</th>\n",
       "      <td>0.000000e+00</td>\n",
       "      <td>0.000000e+00</td>\n",
       "      <td>0.000000e+00</td>\n",
       "    </tr>\n",
       "    <tr>\n",
       "      <th>31</th>\n",
       "      <td>-4.781388e-07</td>\n",
       "      <td>-1.895870e-06</td>\n",
       "      <td>-5.800000e-07</td>\n",
       "    </tr>\n",
       "    <tr>\n",
       "      <th>32</th>\n",
       "      <td>-2.412930e-06</td>\n",
       "      <td>7.018371e-07</td>\n",
       "      <td>6.830000e-06</td>\n",
       "    </tr>\n",
       "    <tr>\n",
       "      <th>33</th>\n",
       "      <td>-4.114207e-07</td>\n",
       "      <td>6.015743e-07</td>\n",
       "      <td>7.100000e-06</td>\n",
       "    </tr>\n",
       "    <tr>\n",
       "      <th>34</th>\n",
       "      <td>9.117981e-07</td>\n",
       "      <td>3.281293e-07</td>\n",
       "      <td>-1.599000e-05</td>\n",
       "    </tr>\n",
       "    <tr>\n",
       "      <th>35</th>\n",
       "      <td>-8.784398e-07</td>\n",
       "      <td>1.257838e-06</td>\n",
       "      <td>-2.180000e-06</td>\n",
       "    </tr>\n",
       "    <tr>\n",
       "      <th>36</th>\n",
       "      <td>1.556729e-06</td>\n",
       "      <td>-7.082164e-06</td>\n",
       "      <td>1.296000e-05</td>\n",
       "    </tr>\n",
       "    <tr>\n",
       "      <th>37</th>\n",
       "      <td>-3.447049e-07</td>\n",
       "      <td>-2.442757e-06</td>\n",
       "      <td>9.230000e-06</td>\n",
       "    </tr>\n",
       "    <tr>\n",
       "      <th>38</th>\n",
       "      <td>8.117232e-07</td>\n",
       "      <td>4.548263e-06</td>\n",
       "      <td>-4.300000e-07</td>\n",
       "    </tr>\n",
       "    <tr>\n",
       "      <th>39</th>\n",
       "      <td>1.701283e-06</td>\n",
       "      <td>1.431018e-06</td>\n",
       "      <td>-7.250000e-06</td>\n",
       "    </tr>\n",
       "    <tr>\n",
       "      <th>40</th>\n",
       "      <td>3.980778e-06</td>\n",
       "      <td>2.971409e-06</td>\n",
       "      <td>6.020000e-06</td>\n",
       "    </tr>\n",
       "    <tr>\n",
       "      <th>41</th>\n",
       "      <td>1.779119e-06</td>\n",
       "      <td>3.171935e-06</td>\n",
       "      <td>1.040000e-05</td>\n",
       "    </tr>\n",
       "    <tr>\n",
       "      <th>42</th>\n",
       "      <td>-5.081608e-06</td>\n",
       "      <td>2.688853e-06</td>\n",
       "      <td>-1.342000e-05</td>\n",
       "    </tr>\n",
       "    <tr>\n",
       "      <th>43</th>\n",
       "      <td>-3.157936e-06</td>\n",
       "      <td>-2.442754e-06</td>\n",
       "      <td>-6.060000e-06</td>\n",
       "    </tr>\n",
       "    <tr>\n",
       "      <th>44</th>\n",
       "      <td>0.000000e+00</td>\n",
       "      <td>0.000000e+00</td>\n",
       "      <td>0.000000e+00</td>\n",
       "    </tr>\n",
       "  </tbody>\n",
       "</table>\n",
       "</div>"
      ],
      "text/plain": [
       "               x             y             z\n",
       "0   0.000000e+00  0.000000e+00  0.000000e+00\n",
       "1   3.335828e-08  1.503935e-06  1.720000e-06\n",
       "2  -1.634565e-06  1.731796e-07 -3.380000e-06\n",
       "3  -2.312855e-06 -8.567869e-07  3.700000e-07\n",
       "4  -1.334339e-06 -8.932465e-07  1.560000e-06\n",
       "5   1.767999e-06  1.996132e-06  6.600000e-06\n",
       "6   3.280250e-06 -2.971409e-06 -1.240000e-06\n",
       "7   7.005287e-07 -2.096395e-06 -6.980000e-06\n",
       "8   1.679043e-06  1.987016e-06  3.200000e-07\n",
       "9   1.879194e-06  9.935093e-07  6.690000e-06\n",
       "10  1.801358e-06  2.406295e-06  3.920000e-06\n",
       "11  1.323220e-06  2.151082e-06 -4.050000e-06\n",
       "12 -5.103847e-06  1.977903e-06 -3.650000e-06\n",
       "13 -5.026010e-06 -9.570497e-07  3.870000e-06\n",
       "14  0.000000e+00  0.000000e+00  0.000000e+00\n",
       "15  0.000000e+00  0.000000e+00  0.000000e+00\n",
       "16  2.257257e-06 -4.429770e-06 -1.950000e-06\n",
       "17 -4.714664e-06 -3.536527e-06 -1.612000e-05\n",
       "18 -7.783626e-08  2.506557e-06 -1.558000e-05\n",
       "19 -1.512251e-06 -1.093764e-07 -2.080000e-06\n",
       "20 -3.369206e-06  2.871149e-06 -5.670000e-06\n",
       "21  5.381834e-06  8.567869e-07 -2.353000e-05\n",
       "22  3.046741e-06 -2.242231e-06  1.976000e-05\n",
       "23 -2.146062e-06  4.466220e-07  2.337000e-05\n",
       "24  2.879949e-06 -1.740917e-06 -5.300000e-07\n",
       "25  3.068980e-06 -2.187542e-06  2.860000e-06\n",
       "26  1.512251e-06  4.010492e-06  3.500000e-06\n",
       "27  1.056352e-06  5.013118e-06  1.767000e-05\n",
       "28 -6.582740e-06 -1.750033e-06 -1.057000e-05\n",
       "29  0.000000e+00  0.000000e+00  0.000000e+00\n",
       "30  0.000000e+00  0.000000e+00  0.000000e+00\n",
       "31 -4.781388e-07 -1.895870e-06 -5.800000e-07\n",
       "32 -2.412930e-06  7.018371e-07  6.830000e-06\n",
       "33 -4.114207e-07  6.015743e-07  7.100000e-06\n",
       "34  9.117981e-07  3.281293e-07 -1.599000e-05\n",
       "35 -8.784398e-07  1.257838e-06 -2.180000e-06\n",
       "36  1.556729e-06 -7.082164e-06  1.296000e-05\n",
       "37 -3.447049e-07 -2.442757e-06  9.230000e-06\n",
       "38  8.117232e-07  4.548263e-06 -4.300000e-07\n",
       "39  1.701283e-06  1.431018e-06 -7.250000e-06\n",
       "40  3.980778e-06  2.971409e-06  6.020000e-06\n",
       "41  1.779119e-06  3.171935e-06  1.040000e-05\n",
       "42 -5.081608e-06  2.688853e-06 -1.342000e-05\n",
       "43 -3.157936e-06 -2.442754e-06 -6.060000e-06\n",
       "44  0.000000e+00  0.000000e+00  0.000000e+00"
      ]
     },
     "execution_count": 7,
     "metadata": {},
     "output_type": "execute_result"
    }
   ],
   "source": [
    "data"
   ]
  },
  {
   "cell_type": "markdown",
   "id": "265b2c00a45c7efe",
   "metadata": {},
   "source": [
    "# Analysing output data"
   ]
  },
  {
   "cell_type": "code",
   "execution_count": 12,
   "id": "bd8a04e1e81d288",
   "metadata": {
    "ExecuteTime": {
     "end_time": "2024-06-15T10:06:21.966633Z",
     "start_time": "2024-06-15T10:06:21.952980Z"
    }
   },
   "outputs": [],
   "source": [
    "# Open the HDF5 file in read mode\n",
    "keys = []\n",
    "dates = []\n",
    "with h5py.File(hdf5_out_put_file_path, 'r') as file:\n",
    "    for key in file.keys():\n",
    "        keys.append(key)\n",
    "        dates.append(file[key].attrs['main_shock_day'])\n",
    "dates = np.array(dates, dtype='datetime64[D]')"
   ]
  },
  {
   "cell_type": "code",
   "execution_count": 13,
   "id": "b9c14776262c344d",
   "metadata": {
    "ExecuteTime": {
     "end_time": "2024-06-15T10:06:23.262856Z",
     "start_time": "2024-06-15T10:06:23.249618Z"
    }
   },
   "outputs": [
    {
     "data": {
      "text/plain": [
       "['202',\n",
       " '204',\n",
       " '220',\n",
       " '262',\n",
       " '270',\n",
       " '273',\n",
       " '275',\n",
       " '277',\n",
       " '278',\n",
       " '292',\n",
       " '301',\n",
       " '303',\n",
       " '311',\n",
       " '317',\n",
       " '335',\n",
       " '336',\n",
       " '337',\n",
       " '339',\n",
       " '341',\n",
       " '342',\n",
       " '343',\n",
       " '344',\n",
       " '346',\n",
       " '352',\n",
       " '358',\n",
       " '359',\n",
       " '362',\n",
       " '364',\n",
       " '367',\n",
       " '369',\n",
       " '370',\n",
       " '373',\n",
       " '376',\n",
       " '382',\n",
       " '384',\n",
       " '386',\n",
       " '388',\n",
       " '392',\n",
       " '394',\n",
       " '396',\n",
       " '398',\n",
       " '400',\n",
       " '401',\n",
       " '402',\n",
       " '403',\n",
       " '404',\n",
       " '407',\n",
       " '408',\n",
       " '409',\n",
       " '410',\n",
       " '411',\n",
       " '412',\n",
       " '416',\n",
       " '417',\n",
       " '421',\n",
       " '422',\n",
       " '424',\n",
       " '425',\n",
       " '426',\n",
       " '427',\n",
       " '428',\n",
       " '430',\n",
       " '432',\n",
       " '437',\n",
       " '440',\n",
       " '445',\n",
       " '446',\n",
       " '454',\n",
       " '468',\n",
       " '472',\n",
       " '484',\n",
       " '489',\n",
       " '495',\n",
       " '504',\n",
       " '515',\n",
       " '521',\n",
       " '522',\n",
       " '534',\n",
       " '535',\n",
       " '547',\n",
       " '548',\n",
       " '549',\n",
       " '550',\n",
       " '556',\n",
       " '567',\n",
       " '576',\n",
       " '577']"
      ]
     },
     "execution_count": 13,
     "metadata": {},
     "output_type": "execute_result"
    }
   ],
   "source": [
    "keys"
   ]
  },
  {
   "cell_type": "code",
   "execution_count": 3,
   "id": "7aa20aa40adedb49",
   "metadata": {
    "ExecuteTime": {
     "end_time": "2024-06-15T11:40:14.803149Z",
     "start_time": "2024-06-15T11:40:14.798560Z"
    }
   },
   "outputs": [],
   "source": [
    "with h5py.File(hdf5_out_put_file_path, 'r') as file:\n",
    "    group = file['202']\n",
    "    #print(type(group['interpolated_displacement'][()]))\n",
    "    data = pd.DataFrame(np.vstack([group['interpolated_displacement'][()][0], group['interpolated_displacement'][()][1],\n",
    "                                   group['interpolated_displacement'][()][2]]), columns=['x', 'y', 'z'])"
   ]
  },
  {
   "cell_type": "code",
   "execution_count": 4,
   "id": "dd2e7d343c2dce60",
   "metadata": {
    "ExecuteTime": {
     "end_time": "2024-06-15T11:40:16.788608Z",
     "start_time": "2024-06-15T11:40:16.780870Z"
    }
   },
   "outputs": [
    {
     "data": {
      "text/html": [
       "<div>\n",
       "<style scoped>\n",
       "    .dataframe tbody tr th:only-of-type {\n",
       "        vertical-align: middle;\n",
       "    }\n",
       "\n",
       "    .dataframe tbody tr th {\n",
       "        vertical-align: top;\n",
       "    }\n",
       "\n",
       "    .dataframe thead th {\n",
       "        text-align: right;\n",
       "    }\n",
       "</style>\n",
       "<table border=\"1\" class=\"dataframe\">\n",
       "  <thead>\n",
       "    <tr style=\"text-align: right;\">\n",
       "      <th></th>\n",
       "      <th>x</th>\n",
       "      <th>y</th>\n",
       "      <th>z</th>\n",
       "    </tr>\n",
       "  </thead>\n",
       "  <tbody>\n",
       "    <tr>\n",
       "      <th>0</th>\n",
       "      <td>-0.968846</td>\n",
       "      <td>-1.414031</td>\n",
       "      <td>6.656275e-04</td>\n",
       "    </tr>\n",
       "    <tr>\n",
       "      <th>1</th>\n",
       "      <td>-0.972096</td>\n",
       "      <td>-1.407885</td>\n",
       "      <td>7.302170e-04</td>\n",
       "    </tr>\n",
       "    <tr>\n",
       "      <th>2</th>\n",
       "      <td>-0.975523</td>\n",
       "      <td>-1.401404</td>\n",
       "      <td>7.907172e-04</td>\n",
       "    </tr>\n",
       "    <tr>\n",
       "      <th>3</th>\n",
       "      <td>-0.979136</td>\n",
       "      <td>-1.394573</td>\n",
       "      <td>8.451599e-04</td>\n",
       "    </tr>\n",
       "    <tr>\n",
       "      <th>4</th>\n",
       "      <td>-0.982942</td>\n",
       "      <td>-1.387374</td>\n",
       "      <td>8.916718e-04</td>\n",
       "    </tr>\n",
       "    <tr>\n",
       "      <th>...</th>\n",
       "      <td>...</td>\n",
       "      <td>...</td>\n",
       "      <td>...</td>\n",
       "    </tr>\n",
       "    <tr>\n",
       "      <th>145</th>\n",
       "      <td>-1.460432</td>\n",
       "      <td>-0.483830</td>\n",
       "      <td>3.620562e-07</td>\n",
       "    </tr>\n",
       "    <tr>\n",
       "      <th>146</th>\n",
       "      <td>-1.479749</td>\n",
       "      <td>-0.447271</td>\n",
       "      <td>2.345452e-07</td>\n",
       "    </tr>\n",
       "    <tr>\n",
       "      <th>147</th>\n",
       "      <td>-1.499264</td>\n",
       "      <td>-0.410337</td>\n",
       "      <td>1.499814e-07</td>\n",
       "    </tr>\n",
       "    <tr>\n",
       "      <th>148</th>\n",
       "      <td>-1.518947</td>\n",
       "      <td>-0.373087</td>\n",
       "      <td>9.466919e-08</td>\n",
       "    </tr>\n",
       "    <tr>\n",
       "      <th>149</th>\n",
       "      <td>-1.538765</td>\n",
       "      <td>-0.335580</td>\n",
       "      <td>5.898483e-08</td>\n",
       "    </tr>\n",
       "  </tbody>\n",
       "</table>\n",
       "<p>150 rows × 3 columns</p>\n",
       "</div>"
      ],
      "text/plain": [
       "            x         y             z\n",
       "0   -0.968846 -1.414031  6.656275e-04\n",
       "1   -0.972096 -1.407885  7.302170e-04\n",
       "2   -0.975523 -1.401404  7.907172e-04\n",
       "3   -0.979136 -1.394573  8.451599e-04\n",
       "4   -0.982942 -1.387374  8.916718e-04\n",
       "..        ...       ...           ...\n",
       "145 -1.460432 -0.483830  3.620562e-07\n",
       "146 -1.479749 -0.447271  2.345452e-07\n",
       "147 -1.499264 -0.410337  1.499814e-07\n",
       "148 -1.518947 -0.373087  9.466919e-08\n",
       "149 -1.538765 -0.335580  5.898483e-08\n",
       "\n",
       "[150 rows x 3 columns]"
      ]
     },
     "execution_count": 4,
     "metadata": {},
     "output_type": "execute_result"
    }
   ],
   "source": [
    "data"
   ]
  },
  {
   "cell_type": "code",
   "execution_count": 5,
   "id": "5d05be97b58047dd",
   "metadata": {
    "ExecuteTime": {
     "end_time": "2024-06-15T10:00:09.252131Z",
     "start_time": "2024-06-15T10:00:09.239915Z"
    }
   },
   "outputs": [
    {
     "data": {
      "text/plain": [
       "array(['2005-03-05', '2005-04-10', '2005-12-16', '2007-09-06',\n",
       "       '2008-04-23', '2008-05-07', '2008-06-13', '2008-07-08',\n",
       "       '2008-07-13', '2009-07-13', '2009-10-03', '2009-12-19',\n",
       "       '2010-03-14', '2010-07-04', '2011-03-11', '2011-03-11',\n",
       "       '2011-03-11', '2011-03-11', '2011-03-11', '2011-03-11',\n",
       "       '2011-03-11', '2011-03-11', '2011-03-11', '2011-03-11',\n",
       "       '2011-03-11', '2011-03-11', '2011-03-11', '2011-03-11',\n",
       "       '2011-03-11', '2011-03-11', '2011-03-11', '2011-03-11',\n",
       "       '2011-03-11', '2011-03-12', '2011-03-12', '2011-03-13',\n",
       "       '2011-03-14', '2011-03-15', '2011-03-16', '2011-03-19',\n",
       "       '2011-03-22', '2011-03-22', '2011-03-22', '2011-03-24',\n",
       "       '2011-03-25', '2011-03-27', '2011-03-31', '2011-04-01',\n",
       "       '2011-04-07', '2011-04-11', '2011-04-11', '2011-04-12',\n",
       "       '2011-04-21', '2011-04-23', '2011-06-18', '2011-06-22',\n",
       "       '2011-07-23', '2011-07-24', '2011-07-30', '2011-08-01',\n",
       "       '2011-08-11', '2011-08-19', '2011-09-15', '2011-11-23',\n",
       "       '2012-02-14', '2012-03-14', '2012-03-27', '2012-06-17',\n",
       "       '2013-04-18', '2013-06-02', '2014-05-04', '2014-08-10',\n",
       "       '2015-02-13', '2015-05-12', '2016-02-05', '2016-05-12',\n",
       "       '2016-05-12', '2016-11-21', '2016-11-23', '2018-02-04',\n",
       "       '2018-02-06', '2018-02-06', '2018-02-07', '2018-09-05',\n",
       "       '2019-03-11', '2019-08-04', '2019-08-07'], dtype='datetime64[D]')"
      ]
     },
     "execution_count": 5,
     "metadata": {},
     "output_type": "execute_result"
    }
   ],
   "source": [
    "dates"
   ]
  },
  {
   "cell_type": "code",
   "execution_count": 5,
   "id": "8167f868de004a0f",
   "metadata": {
    "ExecuteTime": {
     "end_time": "2024-06-15T09:57:57.234570Z",
     "start_time": "2024-06-15T09:57:57.231402Z"
    }
   },
   "outputs": [
    {
     "data": {
      "text/plain": [
       "87"
      ]
     },
     "execution_count": 5,
     "metadata": {},
     "output_type": "execute_result"
    }
   ],
   "source": [
    "len(dates)"
   ]
  },
  {
   "cell_type": "code",
   "execution_count": null,
   "id": "6db662e056a052a6",
   "metadata": {},
   "outputs": [],
   "source": [
    "sum(dates >= np.datetime64('2015-01-01'))"
   ]
  },
  {
   "cell_type": "markdown",
   "id": "5194db90ba0ce627",
   "metadata": {},
   "source": [
    "# Analysing earthquakes and stations data"
   ]
  },
  {
   "cell_type": "code",
   "execution_count": null,
   "id": "7e38b29837ce81a2",
   "metadata": {},
   "outputs": [],
   "source": [
    "earthquakes = pd.read_csv(earthquakes_path, sep=\" \", parse_dates=['datetime'])\n",
    "earthquakes.rename(columns={'datetime': 'day'}, inplace=True)\n",
    "earthquakes['day'] = earthquakes.day.values.astype('datetime64[D]')\n",
    "earthquakes.sort_values(by='day', inplace=True)\n",
    "earthquakes.reset_index(drop=True, inplace=True)"
   ]
  },
  {
   "cell_type": "code",
   "execution_count": null,
   "id": "e4b5cf65616bd94e",
   "metadata": {},
   "outputs": [],
   "source": [
    "ngl_list = utilities.get_ngl_stations()"
   ]
  },
  {
   "cell_type": "code",
   "execution_count": null,
   "id": "3c141a4da5bcec63",
   "metadata": {},
   "outputs": [],
   "source": [
    "ngl_list"
   ]
  },
  {
   "cell_type": "code",
   "execution_count": null,
   "id": "52b12b2b891a5807",
   "metadata": {},
   "outputs": [],
   "source": [
    "ngl_list[ngl_list.name == '1LSU']"
   ]
  },
  {
   "cell_type": "code",
   "execution_count": null,
   "id": "4aa4b94810c6cee7",
   "metadata": {},
   "outputs": [],
   "source": [
    "earthquakes[earthquakes['type'] == 2]['mag'].min()"
   ]
  },
  {
   "cell_type": "code",
   "execution_count": null,
   "id": "e9b4796b790d8283",
   "metadata": {},
   "outputs": [],
   "source": [
    "earthquakes[earthquakes['type'] == 1]"
   ]
  }
 ],
 "metadata": {
  "kernelspec": {
   "display_name": "Python 3 (ipykernel)",
   "language": "python",
   "name": "python3"
  },
  "language_info": {
   "codemirror_mode": {
    "name": "ipython",
    "version": 3
   },
   "file_extension": ".py",
   "mimetype": "text/x-python",
   "name": "python",
   "nbconvert_exporter": "python",
   "pygments_lexer": "ipython3",
   "version": "3.11.0"
  }
 },
 "nbformat": 4,
 "nbformat_minor": 5
}
